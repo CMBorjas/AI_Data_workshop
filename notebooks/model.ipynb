{
 "cells": [
  {
   "cell_type": "markdown",
   "id": "7d21d4b3",
   "metadata": {},
   "source": [
    "# Explore the data set"
   ]
  },
  {
   "cell_type": "code",
   "execution_count": 2,
   "id": "55183b67",
   "metadata": {},
   "outputs": [
    {
     "name": "stdout",
     "output_type": "stream",
     "text": [
      "2.2.3\n"
     ]
    }
   ],
   "source": [
    "import pandas as pd\n",
    "print(pd.__version__)\n"
   ]
  },
  {
   "cell_type": "markdown",
   "id": "1badc05e",
   "metadata": {},
   "source": [
    "## Load the dataset"
   ]
  },
  {
   "cell_type": "code",
   "execution_count": 3,
   "id": "783d1fe6",
   "metadata": {},
   "outputs": [],
   "source": [
    "df = pd.read_csv(\"../data/survey lung cancer.csv\")"
   ]
  },
  {
   "cell_type": "markdown",
   "id": "0550795b",
   "metadata": {},
   "source": [
    "## Preview"
   ]
  },
  {
   "cell_type": "code",
   "execution_count": null,
   "id": "45271cea",
   "metadata": {},
   "outputs": [],
   "source": [
    "df.head()"
   ]
  }
 ],
 "metadata": {
  "kernelspec": {
   "display_name": "venv",
   "language": "python",
   "name": "python3"
  },
  "language_info": {
   "codemirror_mode": {
    "name": "ipython",
    "version": 3
   },
   "file_extension": ".py",
   "mimetype": "text/x-python",
   "name": "python",
   "nbconvert_exporter": "python",
   "pygments_lexer": "ipython3",
   "version": "3.12.7"
  }
 },
 "nbformat": 4,
 "nbformat_minor": 5
}
